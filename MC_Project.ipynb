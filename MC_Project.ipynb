{
  "nbformat": 4,
  "nbformat_minor": 0,
  "metadata": {
    "colab": {
      "provenance": [],
      "authorship_tag": "ABX9TyOUAFCCpYNBak4IJV0vyaui",
      "include_colab_link": true
    },
    "kernelspec": {
      "name": "python3",
      "display_name": "Python 3"
    },
    "language_info": {
      "name": "python"
    }
  },
  "cells": [
    {
      "cell_type": "markdown",
      "metadata": {
        "id": "view-in-github",
        "colab_type": "text"
      },
      "source": [
        "<a href=\"https://colab.research.google.com/github/djbell01/563-DawsonBell/blob/main/MC_Project.ipynb\" target=\"_parent\"><img src=\"https://colab.research.google.com/assets/colab-badge.svg\" alt=\"Open In Colab\"/></a>"
      ]
    },
    {
      "cell_type": "code",
      "execution_count": 1,
      "metadata": {
        "id": "bMd0jMI433Sc"
      },
      "outputs": [],
      "source": [
        "import numpy as np\n",
        "import matplotlib.pyplot as plt"
      ]
    },
    {
      "cell_type": "code",
      "source": [
        "class Particle():\n",
        "  def __init__(self,position,r):\n",
        "    self.position = np.array(position)\n",
        "    self.radius = r\n",
        "\n",
        "class System():\n",
        "  def __init__(self,N,L,particle_radius,r_cut):\n",
        "    self.N = N\n",
        "    self.L = L\n",
        "    self.r_cut = r_cut\n",
        "\n",
        "    self.particles = []\n",
        "    for i in range(self.N):\n",
        "      position = np.random.uniform(0,self.L,3)\n",
        "      self.particles.append(Particle(position,particle_radius))\n",
        "\n",
        "    # Check and resolve overlaps\n",
        "    for i in range(self.N):\n",
        "        overlap = True\n",
        "        while overlap:\n",
        "            overlap = False\n",
        "            for j in range(i):  # Only check previous particles\n",
        "                distance = self.minimum_image_distance(self.particles[i].position, self.particles[j].position)\n",
        "                if distance < 2 * particle_radius:  # Overlap detected\n",
        "                    self.particles[i].position = np.random.uniform(0, self.L, 3)\n",
        "                    overlap = True\n",
        "                    break  # Restart check for this particle\n",
        "\n",
        "  def minimum_image_distance(self,pos1,pos2):\n",
        "    diff_vector = pos1 - pos2\n",
        "    diff_vector -= self.L * np.round(self.L/diff_vector)\n",
        "    return np.linalg.norm(diff_vector)\n",
        "\n",
        "  def calculate_energy(self):\n",
        "    energy = 0\n",
        "    for i in range(self.particles):\n",
        "      for j in range(self.particles):\n",
        "        if i < j:\n",
        "          distance = self.minimum_image_distance(self.particles[i].position,self.particles[j].position)\n",
        "          energy += 4*((self.particles[i].radius/distance)**12 - (self.particles[i].radius/distance)**6)\n"
      ],
      "metadata": {
        "id": "S5ZS8jsm4Uan"
      },
      "execution_count": 2,
      "outputs": []
    },
    {
      "cell_type": "code",
      "source": [
        "s = System(10,10,0.5,3)\n",
        "for particle in s.particles:\n",
        "  print(particle.position)"
      ],
      "metadata": {
        "id": "75rryrFw_5jv",
        "outputId": "5d8aa364-0141-426b-f1d9-2589c58b424f",
        "colab": {
          "base_uri": "https://localhost:8080/"
        }
      },
      "execution_count": 50,
      "outputs": [
        {
          "output_type": "stream",
          "name": "stdout",
          "text": [
            "[6.15015699 0.48263074 3.66412726]\n",
            "[1.10995253 5.33675207 3.33109052]\n",
            "[1.19841325 1.23963046 3.45897079]\n",
            "[0.44877514 1.85691679 8.40788021]\n",
            "[0.18240281 5.61427625 3.66022289]\n",
            "[9.72480895 8.13498113 1.04292244]\n",
            "[1.8909862 7.2567821 6.9578327]\n",
            "[4.87648046 9.99614288 4.25030637]\n",
            "[1.96508619 4.34775943 8.73693401]\n",
            "[3.27231957 7.85748931 1.82029977]\n"
          ]
        }
      ]
    }
  ]
}