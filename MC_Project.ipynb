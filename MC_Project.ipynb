{
  "nbformat": 4,
  "nbformat_minor": 0,
  "metadata": {
    "colab": {
      "provenance": [],
      "authorship_tag": "ABX9TyOq9Af+PfkL/bSXxTCDghq/",
      "include_colab_link": true
    },
    "kernelspec": {
      "name": "python3",
      "display_name": "Python 3"
    },
    "language_info": {
      "name": "python"
    }
  },
  "cells": [
    {
      "cell_type": "markdown",
      "metadata": {
        "id": "view-in-github",
        "colab_type": "text"
      },
      "source": [
        "<a href=\"https://colab.research.google.com/github/djbell01/563-DawsonBell/blob/main/MC_Project.ipynb\" target=\"_parent\"><img src=\"https://colab.research.google.com/assets/colab-badge.svg\" alt=\"Open In Colab\"/></a>"
      ]
    },
    {
      "cell_type": "code",
      "execution_count": 1,
      "metadata": {
        "id": "bMd0jMI433Sc"
      },
      "outputs": [],
      "source": [
        "import numpy as np\n",
        "import matplotlib.pyplot as plt\n",
        "import time"
      ]
    },
    {
      "cell_type": "code",
      "source": [
        "class Particle():\n",
        "  def __init__(self,x,y,z,r):\n",
        "    self.x = x\n",
        "    self.y = y\n",
        "    self.z = z\n",
        "    self.radius = r\n",
        "\n",
        "class System():\n",
        "  def __init__(self,N,L,particle_radius,r_cut):\n",
        "    self.N = N\n",
        "    self.L = L\n",
        "    self.r_cut = r_cut\n",
        "\n",
        "    # Is it necessary to check for particle overlap?\n",
        "    # Will the Lennard-Jones potential make such a system\n",
        "    # essentially impossible anyway?\n",
        "    # If the first configuration is unphysical, does this\n",
        "    # matter? Could I end up sampling an unphysical system\n",
        "    # many times at the beginning? Is that okay as long\n",
        "    # as I eject the equilibration from any trajectory analysis?\n",
        "    self.particles = []\n",
        "    for i in range(self.N):\n",
        "      x = np.random.uniform(0,self.L)\n",
        "      y = np.random.uniform(0,self.L)\n",
        "      z = np.random.uniform(0,self.L)\n",
        "      self.particles.append(Particle(x,y,z,particle_radius))\n",
        "\n",
        "\n"
      ],
      "metadata": {
        "id": "S5ZS8jsm4Uan",
        "outputId": "669f7212-f1b0-44e1-cde3-70a875063d75",
        "colab": {
          "base_uri": "https://localhost:8080/",
          "height": 106
        }
      },
      "execution_count": 2,
      "outputs": [
        {
          "output_type": "error",
          "ename": "SyntaxError",
          "evalue": "incomplete input (<ipython-input-2-9a69085dc3a7>, line 3)",
          "traceback": [
            "\u001b[0;36m  File \u001b[0;32m\"<ipython-input-2-9a69085dc3a7>\"\u001b[0;36m, line \u001b[0;32m3\u001b[0m\n\u001b[0;31m    \u001b[0m\n\u001b[0m    ^\u001b[0m\n\u001b[0;31mSyntaxError\u001b[0m\u001b[0;31m:\u001b[0m incomplete input\n"
          ]
        }
      ]
    },
    {
      "cell_type": "code",
      "source": [
        "L=6\n",
        "\n",
        "print(np.random.uniform(0,L))"
      ],
      "metadata": {
        "id": "n14h8uxC7KsL",
        "outputId": "87012564-6f80-4741-e441-5e625bda7083",
        "colab": {
          "base_uri": "https://localhost:8080/"
        }
      },
      "execution_count": 39,
      "outputs": [
        {
          "output_type": "stream",
          "name": "stdout",
          "text": [
            "3.805637772928928\n"
          ]
        }
      ]
    }
  ]
}