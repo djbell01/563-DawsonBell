{
  "nbformat": 4,
  "nbformat_minor": 0,
  "metadata": {
    "colab": {
      "provenance": [],
      "authorship_tag": "ABX9TyP+O7KjRRxDRMs8qQnV0MOR",
      "include_colab_link": true
    },
    "kernelspec": {
      "name": "python3",
      "display_name": "Python 3"
    },
    "language_info": {
      "name": "python"
    }
  },
  "cells": [
    {
      "cell_type": "markdown",
      "metadata": {
        "id": "view-in-github",
        "colab_type": "text"
      },
      "source": [
        "<a href=\"https://colab.research.google.com/github/djbell01/563-DawsonBell/blob/main/MC_Project.ipynb\" target=\"_parent\"><img src=\"https://colab.research.google.com/assets/colab-badge.svg\" alt=\"Open In Colab\"/></a>"
      ]
    },
    {
      "cell_type": "code",
      "execution_count": 3,
      "metadata": {
        "id": "bMd0jMI433Sc"
      },
      "outputs": [],
      "source": [
        "import numpy as np\n",
        "import matplotlib.pyplot as plt\n",
        "from collections import defaultdict\n",
        "import time"
      ]
    },
    {
      "cell_type": "code",
      "source": [
        "def calc_distance(x1,y1,z1,x2,y2,z2):\n",
        "  return np.sqrt((x2-x1)**2 + (y2-y1)**2 + (z2-z1)**2)\n",
        "\n",
        "\n",
        "class Particle():\n",
        "  def __init__(self,x,y,z,r):\n",
        "    self.x = x\n",
        "    self.y = y\n",
        "    self.z = z\n",
        "    self.radius = r\n",
        "\n",
        "\n",
        "class System():\n",
        "  def __init__(self,N,L,particle_radius,r_cut):\n",
        "    self.N = N\n",
        "    self.L = L\n",
        "    self.r_cut = r_cut\n",
        "    self.verlet_grid = defaultdict(list) # Initialize dictionary for saving verlet grid\n",
        "\n",
        "    # Is it necessary to check for particle overlap?\n",
        "    # Will the Lennard-Jones potential make such a system\n",
        "    # essentially impossible anyway?\n",
        "    # If the first configuration is unphysical, does this\n",
        "    # matter? Could I end up sampling an unphysical system\n",
        "    # many times at the beginning? Is that okay as long\n",
        "    # as I eject the equilibration from any trajectory analysis?\n",
        "    self.particles = []\n",
        "    for i in range(self.N):\n",
        "      x = np.random.uniform(0,self.L)\n",
        "      y = np.random.uniform(0,self.L)\n",
        "      z = np.random.uniform(0,self.L)\n",
        "      self.particles.append(Particle(x,y,z,particle_radius))\n",
        "      verlet_x = self.particles[-1].x // r_cut\n",
        "      verlet_y = self.particles[-1].y // r_cut\n",
        "      verlet_z = self.particles[-1].z // r_cut\n",
        "      self.verlet_grid[(verlet_x,verlet_y,verlet_z)].append(self.particles[-1])\n",
        "\n",
        "    # Check for overlapping particles at start (I think this is not that important right now)\n",
        "    # for verlet_site in self.verlet_grid():\n",
        "    #   for i in verlet_site:\n",
        "    #     for j in verlet_site:\n",
        "    #       if i >= j:\n",
        "    #         continue\n",
        "    #       else:\n",
        "    #         distance = calc_distance(\n",
        "    #             verlet_site[i].x,\n",
        "    #             verlet_site[i].y,\n",
        "    #             verlet_site[i].z,\n",
        "    #             verlet_site[j].x,\n",
        "    #             verlet_site[j].y\n",
        "    #             verlet_site[j].z\n",
        "    #         )\n",
        "    #         if distance < particle_radius:\n",
        "    #           overlap = True\n",
        "\n",
        "\n",
        "\n",
        "\n",
        "\n",
        "\n"
      ],
      "metadata": {
        "id": "S5ZS8jsm4Uan",
        "outputId": "33e4dfa8-f77a-4282-ca9f-1784a7442bb8",
        "colab": {
          "base_uri": "https://localhost:8080/",
          "height": 106
        }
      },
      "execution_count": 6,
      "outputs": [
        {
          "output_type": "error",
          "ename": "SyntaxError",
          "evalue": "incomplete input (<ipython-input-6-aaad3d52804c>, line 48)",
          "traceback": [
            "\u001b[0;36m  File \u001b[0;32m\"<ipython-input-6-aaad3d52804c>\"\u001b[0;36m, line \u001b[0;32m48\u001b[0m\n\u001b[0;31m    \u001b[0m\n\u001b[0m    ^\u001b[0m\n\u001b[0;31mSyntaxError\u001b[0m\u001b[0;31m:\u001b[0m incomplete input\n"
          ]
        }
      ]
    },
    {
      "cell_type": "code",
      "source": [
        "s = System(10,10,0.5,3)\n",
        "\n",
        "print(s.verlet_grid)"
      ],
      "metadata": {
        "id": "75rryrFw_5jv",
        "outputId": "e24f91bd-9bd0-42dd-8166-777a3b697696",
        "colab": {
          "base_uri": "https://localhost:8080/"
        }
      },
      "execution_count": 5,
      "outputs": [
        {
          "output_type": "stream",
          "name": "stdout",
          "text": [
            "defaultdict(<class 'list'>, {(0.0, 2.0, 1.0): [<__main__.Particle object at 0x7b825705c950>], (2.0, 2.0, 1.0): [<__main__.Particle object at 0x7b8256b3ff90>], (1.0, 2.0, 0.0): [<__main__.Particle object at 0x7b8257ec1a50>], (2.0, 0.0, 2.0): [<__main__.Particle object at 0x7b8256a7af50>], (0.0, 0.0, 1.0): [<__main__.Particle object at 0x7b8256a7a690>, <__main__.Particle object at 0x7b8256a78f10>, <__main__.Particle object at 0x7b8256a7ab90>], (0.0, 1.0, 0.0): [<__main__.Particle object at 0x7b8256a7aad0>], (1.0, 3.0, 0.0): [<__main__.Particle object at 0x7b8256a7bb50>], (0.0, 0.0, 3.0): [<__main__.Particle object at 0x7b8256a7aa10>]})\n"
          ]
        }
      ]
    }
  ]
}