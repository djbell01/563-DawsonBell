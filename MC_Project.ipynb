{
  "nbformat": 4,
  "nbformat_minor": 0,
  "metadata": {
    "colab": {
      "provenance": [],
      "authorship_tag": "ABX9TyNTSJPv2UeFasqu3k7W+hg2",
      "include_colab_link": true
    },
    "kernelspec": {
      "name": "python3",
      "display_name": "Python 3"
    },
    "language_info": {
      "name": "python"
    }
  },
  "cells": [
    {
      "cell_type": "markdown",
      "metadata": {
        "id": "view-in-github",
        "colab_type": "text"
      },
      "source": [
        "<a href=\"https://colab.research.google.com/github/djbell01/563-DawsonBell/blob/main/MC_Project.ipynb\" target=\"_parent\"><img src=\"https://colab.research.google.com/assets/colab-badge.svg\" alt=\"Open In Colab\"/></a>"
      ]
    },
    {
      "cell_type": "code",
      "execution_count": 2,
      "metadata": {
        "id": "bMd0jMI433Sc"
      },
      "outputs": [],
      "source": [
        "import numpy as np\n",
        "import matplotlib.pyplot as plt"
      ]
    },
    {
      "cell_type": "code",
      "source": [
        "class Particle():\n",
        "  def __init__(self,position,r):\n",
        "    self.position = np.array(position)\n",
        "    self.radius = r\n",
        "\n",
        "class System():\n",
        "  def __init__(self,N,L,particle_radius,r_cut):\n",
        "    self.N = N\n",
        "    self.L = L\n",
        "    self.r_cut = r_cut\n",
        "    self.energy = 0.0\n",
        "\n",
        "    self.particles = []\n",
        "    for i in range(self.N):\n",
        "      position = np.random.uniform(-self.L/2,self.L/2,3)\n",
        "      self.particles.append(Particle(position,particle_radius))\n",
        "\n",
        "    # Check and resolve overlaps\n",
        "    for i in range(self.N):\n",
        "        overlap = True\n",
        "        while overlap:\n",
        "            overlap = False\n",
        "            for j in range(i):  # Only check previous particles\n",
        "                distance = self.minimum_image_distance(self.particles[i].position, self.particles[j].position)\n",
        "                if distance < 2 * particle_radius:  # Overlap detected\n",
        "                    self.particles[i].position = np.random.uniform(0, self.L, 3)\n",
        "                    overlap = True\n",
        "                    break  # Restart check for this particle\n",
        "\n",
        "  def minimum_image_distance(self,pos1,pos2):\n",
        "    diff_vector = pos1 - pos2\n",
        "    diff_vector = (diff_vector+(self.L/2))%self.L-(self.L/2)\n",
        "    return np.linalg.norm(diff_vector)\n",
        "\n",
        "  def calculate_energy(self):\n",
        "    for i in range(len(self.particles)):\n",
        "      for j in range(len(self.particles)):\n",
        "        if i < j:\n",
        "          distance = self.minimum_image_distance(self.particles[i].position,self.particles[j].position)\n",
        "          sigma = 2*self.particles[i].radius\n",
        "          epsilon = 1.0\n",
        "          self.energy += 4*epsilon*((sigma/distance)**12 - (sigma/distance)**6)\n"
      ],
      "metadata": {
        "id": "S5ZS8jsm4Uan"
      },
      "execution_count": 6,
      "outputs": []
    },
    {
      "cell_type": "code",
      "source": [
        "s = System(10,10,0.5,5)\n",
        "print(s.particles[0].position,s.particles[1].position)\n",
        "print(s.minimum_image_distance(s.particles[0].position,s.particles[1].position))\n",
        "print(s.energy)"
      ],
      "metadata": {
        "id": "75rryrFw_5jv",
        "outputId": "29e48c40-1eec-4afa-b4e1-6be1d4a6720d",
        "colab": {
          "base_uri": "https://localhost:8080/"
        }
      },
      "execution_count": 59,
      "outputs": [
        {
          "output_type": "stream",
          "name": "stdout",
          "text": [
            "[-4.71689772  1.062866   -3.49836962] [ 0.06851791 -0.09228988 -0.05542655]\n",
            "6.0073658827110545\n",
            "0.0\n"
          ]
        }
      ]
    }
  ]
}