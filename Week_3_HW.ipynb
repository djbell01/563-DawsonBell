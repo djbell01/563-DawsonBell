{
  "nbformat": 4,
  "nbformat_minor": 0,
  "metadata": {
    "colab": {
      "provenance": [],
      "include_colab_link": true
    },
    "kernelspec": {
      "name": "python3",
      "display_name": "Python 3"
    },
    "language_info": {
      "name": "python"
    }
  },
  "cells": [
    {
      "cell_type": "markdown",
      "metadata": {
        "id": "view-in-github",
        "colab_type": "text"
      },
      "source": [
        "<a href=\"https://colab.research.google.com/github/djbell01/563-DawsonBell/blob/main/Week_3_HW.ipynb\" target=\"_parent\"><img src=\"https://colab.research.google.com/assets/colab-badge.svg\" alt=\"Open In Colab\"/></a>"
      ]
    },
    {
      "cell_type": "markdown",
      "source": [
        "# Monte Carlo"
      ],
      "metadata": {
        "id": "0jiYygbbySKb"
      }
    },
    {
      "cell_type": "code",
      "execution_count": 1,
      "metadata": {
        "id": "ramwN8nEjDCx"
      },
      "outputs": [],
      "source": [
        "import numpy as np\n",
        "import matplotlib.pyplot as plt"
      ]
    },
    {
      "cell_type": "code",
      "source": [
        "# Grid\n",
        "class grid():\n",
        "  def __init__(self,length,N):\n",
        "    # Create a square grid with N particles\n",
        "    self.grid_spaces = length**2\n",
        "    self.N = N\n",
        "    self.rng = np.random.default_rng()\n",
        "\n",
        "    # Generate random positions for N particles\n",
        "    self.particles = []\n",
        "    for i in range(N):\n",
        "      x = self.rng.integers(0,length,1)\n",
        "      y = self.rng.integers(0,length,1)\n",
        "      self.particles.append(particle(x,y))\n",
        "\n",
        "    # Check for overlapping particles, move if necessary\n",
        "\n",
        "  def move_particle(self,index):\n",
        "    # Determine where all empty spaces are and choose one at random.\n",
        "    self.empty_spaces = []\n",
        "    for i in range(self.length):\n",
        "      for j in range(self.length):\n",
        "        for particle in self.particles:\n",
        "          if particle.x == i and particle.y == j:\n",
        "            continue\n",
        "          else:\n",
        "            self.empty_spaces.append([i,j])\n",
        "\n",
        "    rand = self.rng.integers(0,len(self.empty_spaces),1)\n",
        "    rand_empty_space = self.empty_spaces[rand]\n",
        "    self.particles[index].x = rand_empty_space[0]\n",
        "    self.particles[index].y = rand_empty_space[1]\n",
        "\n",
        "\n",
        "    #self.particles[index]\n",
        "\n",
        "# Particle\n",
        "class particle():\n",
        "  def __init__(self,x,y):\n",
        "    self.x = x\n",
        "    self.y = y\n",
        "\n",
        "\n"
      ],
      "metadata": {
        "id": "aflqY1uzyg-l"
      },
      "execution_count": null,
      "outputs": []
    },
    {
      "cell_type": "code",
      "source": [
        "rng = np.random.default_rng()\n",
        "rand = rng.integers(0,10,1)\n",
        "print(rand)"
      ],
      "metadata": {
        "id": "rWZCJPzg1o_J",
        "outputId": "2ce96069-94b0-4034-b688-f4525d4e317a",
        "colab": {
          "base_uri": "https://localhost:8080/"
        }
      },
      "execution_count": 10,
      "outputs": [
        {
          "output_type": "stream",
          "name": "stdout",
          "text": [
            "[2]\n"
          ]
        }
      ]
    }
  ]
}