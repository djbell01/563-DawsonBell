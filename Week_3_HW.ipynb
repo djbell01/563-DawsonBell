{
  "nbformat": 4,
  "nbformat_minor": 0,
  "metadata": {
    "colab": {
      "provenance": [],
      "include_colab_link": true
    },
    "kernelspec": {
      "name": "python3",
      "display_name": "Python 3"
    },
    "language_info": {
      "name": "python"
    }
  },
  "cells": [
    {
      "cell_type": "markdown",
      "metadata": {
        "id": "view-in-github",
        "colab_type": "text"
      },
      "source": [
        "<a href=\"https://colab.research.google.com/github/djbell01/563-DawsonBell/blob/main/Week_3_HW.ipynb\" target=\"_parent\"><img src=\"https://colab.research.google.com/assets/colab-badge.svg\" alt=\"Open In Colab\"/></a>"
      ]
    },
    {
      "cell_type": "markdown",
      "source": [
        "# Monte Carlo"
      ],
      "metadata": {
        "id": "0jiYygbbySKb"
      }
    },
    {
      "cell_type": "code",
      "execution_count": 1,
      "metadata": {
        "id": "ramwN8nEjDCx"
      },
      "outputs": [],
      "source": [
        "import numpy as np\n",
        "import matplotlib.pyplot as plt"
      ]
    },
    {
      "cell_type": "code",
      "source": [
        "import numpy as np\n",
        "import matplotlib.pyplot as plt\n",
        "\n",
        "# Grid class\n",
        "class grid():\n",
        "    def __init__(self, length, N):\n",
        "        # Initialize grid dimensions and RNG\n",
        "        self.length = length\n",
        "        self.N = N\n",
        "        self.rng = np.random.default_rng()\n",
        "\n",
        "        # Track occupied positions\n",
        "        self.occupied_positions = set()\n",
        "        self.particles = []\n",
        "\n",
        "        # Generate random positions for N particles without overlap\n",
        "        while len(self.particles) < N:\n",
        "            x = self.rng.integers(0, length)\n",
        "            y = self.rng.integers(0, length)\n",
        "            if (x, y) not in self.occupied_positions:\n",
        "                self.particles.append(particle(x, y))\n",
        "                self.occupied_positions.add((x, y))\n",
        "\n",
        "    def move_particle(self, index):\n",
        "        # Determine empty spaces\n",
        "        empty_spaces = [\n",
        "            (i, j)\n",
        "            for i in range(self.length)\n",
        "            for j in range(self.length)\n",
        "            if (i, j) not in self.occupied_positions\n",
        "        ]\n",
        "\n",
        "        # Choose a random empty space\n",
        "        rand_empty_space = empty_spaces[self.rng.integers(0, len(empty_spaces))]\n",
        "\n",
        "        # Update particle's position and occupied positions\n",
        "        old_position = (self.particles[index].x, self.particles[index].y)\n",
        "        self.occupied_positions.remove(old_position)\n",
        "        self.particles[index].x, self.particles[index].y = rand_empty_space\n",
        "        self.occupied_positions.add(rand_empty_space)\n",
        "\n",
        "  # Visualize grid for debugging\n",
        "    def plot_grid(self):\n",
        "      fig = plt.figure()\n",
        "      ax = fig.add_subplot(1, 1, 1)\n",
        "\n",
        "      # Define gridlines that align correctly\n",
        "      gridlines = np.arange(0, self.length + 1)  # Include 0 to max_value + 1\n",
        "\n",
        "      # Set major ticks at integer values\n",
        "      ax.set_xticks(gridlines)\n",
        "      ax.set_yticks(gridlines)\n",
        "\n",
        "      # Set minor ticks in between\n",
        "      minor_ticks = gridlines - 0.5\n",
        "      ax.set_xticks(minor_ticks, minor=True)\n",
        "      ax.set_yticks(minor_ticks, minor=True)\n",
        "\n",
        "      # Add grid lines for minor ticks\n",
        "      ax.grid(which='minor')\n",
        "\n",
        "      # Turn off tick labels\n",
        "      ax.tick_params(axis='both', which='both', length=0)\n",
        "\n",
        "      # Plot the point\n",
        "      x_vals = [p.x for p in self.particles]\n",
        "      y_vals = [p.y for p in self.particles]\n",
        "      ax.scatter(x_vals, y_vals, 400)\n",
        "\n",
        "      # Set bounds and aspect ratio\n",
        "      ax.set_xlim(-0.5, self.length - 0.5)\n",
        "      ax.set_ylim(-0.5, self.length - 0.5)\n",
        "      ax.set_aspect('equal', adjustable='box')\n",
        "\n",
        "    def calculate_energy(self):\n",
        "      self.energy = 0\n",
        "      self.checked_spaces = set()\n",
        "\n",
        "      for i in range(self.N):\n",
        "        x = self.particles[i].x\n",
        "        y = self.particles[i].y\n",
        "        # Define neighboring spaces\n",
        "        neighbors = [[x, y + 1],\n",
        "                     [x, y - 1],\n",
        "                     [x - 1, y],\n",
        "                     [x + 1, y]]\n",
        "\n",
        "        # Account for periodic boundary conditions\n",
        "        for direction in neighbors:\n",
        "          for i,axis_value in enumerate(direction):\n",
        "            if axis_value == -1:\n",
        "              direction[i] += self.length\n",
        "            elif axis_value == self.length:\n",
        "              direction[i] -= self.length\n",
        "            else:\n",
        "              continue\n",
        "\n",
        "          if (tuple(direction) in self.occupied_positions) and (tuple(direction) not in self.checked_spaces):\n",
        "            self.energy += 1\n",
        "          else:\n",
        "            continue\n",
        "\n",
        "        self.checked_spaces.add((x,y))\n",
        "\n",
        "      return self.energy\n",
        "\n",
        "\n",
        "\n",
        "# Particle class\n",
        "class particle():\n",
        "    def __init__(self, x, y):\n",
        "        self.x = x\n",
        "        self.y = y\n",
        "\n",
        "\n",
        "grid_instance = grid(10, 30)\n",
        "print(f'Energy = {grid_instance.calculate_energy()}')\n",
        "grid_instance.plot_grid()\n"
      ],
      "metadata": {
        "colab": {
          "base_uri": "https://localhost:8080/",
          "height": 442
        },
        "id": "aL4uevT0n9Ma",
        "outputId": "9805015e-d97e-40e2-fe32-08cc45d20dcd"
      },
      "execution_count": 15,
      "outputs": [
        {
          "output_type": "stream",
          "name": "stdout",
          "text": [
            "Energy = 17\n"
          ]
        },
        {
          "output_type": "display_data",
          "data": {
            "text/plain": [
              "<Figure size 640x480 with 1 Axes>"
            ],
            "image/png": "[encoded data removed]"
          },
          "metadata": {}
        }
      ]
    }
  ]
}