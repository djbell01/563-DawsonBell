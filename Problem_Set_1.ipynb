{
  "nbformat": 4,
  "nbformat_minor": 0,
  "metadata": {
    "colab": {
      "provenance": [],
      "authorship_tag": "ABX9TyPldELsOFwNHo+yYcEFMUFF",
      "include_colab_link": true
    },
    "kernelspec": {
      "name": "python3",
      "display_name": "Python 3"
    },
    "language_info": {
      "name": "python"
    }
  },
  "cells": [
    {
      "cell_type": "markdown",
      "metadata": {
        "id": "view-in-github",
        "colab_type": "text"
      },
      "source": [
        "<a href=\"https://colab.research.google.com/github/djbell01/563-DawsonBell/blob/main/Problem_Set_1.ipynb\" target=\"_parent\"><img src=\"https://colab.research.google.com/assets/colab-badge.svg\" alt=\"Open In Colab\"/></a>"
      ]
    },
    {
      "cell_type": "code",
      "source": [
        "import numpy as np"
      ],
      "metadata": {
        "id": "FhqrKH03IZgY"
      },
      "execution_count": 2,
      "outputs": []
    },
    {
      "cell_type": "markdown",
      "source": [
        "$1.1$\n",
        "\n",
        "Consider a system $A$ consisting of subsystems $A_{1}$ and $A_{2}$, for which $\\Omega_{1} = 10^{20}$ and $\\Omega_{2} = 10^{22}$. What is the number of configurations available to the combined system? Also, compute the entropies $S$, $S_{1}$, and $S_{2}$.\n",
        "\n",
        "\n",
        "$$Ω_{combined} = Ω_{1} \\cdot Ω_{2}$$\n",
        "\n",
        "$$S = k_{B}\\ln(Ω)$$"
      ],
      "metadata": {
        "id": "rlVLq_jxBkzp"
      }
    },
    {
      "cell_type": "code",
      "execution_count": null,
      "metadata": {
        "id": "xYZV6JzpBFWm",
        "outputId": "0be484eb-0243-4f04-b676-43caf627ee15",
        "colab": {
          "base_uri": "https://localhost:8080/"
        }
      },
      "outputs": [
        {
          "output_type": "stream",
          "name": "stdout",
          "text": [
            "Combined number of states = 9.999999999999999e+43\n",
            "Entropy of A_1 = 6.677727028192031e-22 J/K\n",
            "Entropy of A_2 = 7.3137010308769875e-22 J/K\n",
            "Combined system entropy = 1.3991428059069019e-21 J/K\n"
          ]
        }
      ],
      "source": [
        "omega_1 = 10e20\n",
        "omega_2 = 10e22\n",
        "k_B = 1.381e-23 # units of J/K\n",
        "\n",
        "combined_states = omega_1*omega_2\n",
        "\n",
        "S_1 = k_B*np.log(omega_1)\n",
        "S_2 = k_B*np.log(omega_2)\n",
        "S = k_B*np.log(combined_states)\n",
        "\n",
        "print(f'Combined number of states = {combined_states}')\n",
        "print(f'Entropy of A_1 = {S_1} J/K')\n",
        "print(f'Entropy of A_2 = {S_2} J/K')\n",
        "print(f'Combined system entropy = {S} J/K')"
      ]
    },
    {
      "cell_type": "markdown",
      "source": [
        "$1.2$\n",
        "\n",
        "By what factor does the number of available configurations increase when $10\\ m^{3}$ of air at $1.0\\ atm$ and $300\\ K$ is allowed to expand by $0.001\\%$ at constant temperature?\n",
        "\n",
        "$$S = Nk_{B}\\ln\\biggl(\\frac{Ve^{5/2}}{Nλ_{th}^{3}}\\biggr)$$\n",
        "\n",
        "$$S = k_{B}\\ln(Ω)$$\n",
        "\n",
        "$$k_{B}ln(Ω) = Nk_{B}\\ln\\biggl(\\frac{Ve^{5/2}}{Nλ_{th}^{3}}\\biggr)$$\n",
        "\n",
        "$$e^{ln(Ω)} = e^{N\\ln(\\frac{Ve^{5/2}}{Nλ_{th}^{3}})}$$\n",
        "\n",
        "$$Ω = e^{\\ln((\\frac{Ve^{5/2}}{Nλ_{th}^{3}})^{N})}$$\n",
        "\n",
        "$$Ω = \\biggl(\\frac{Ve^{5/2}}{Nλ_{th}^{3}}\\biggl)^{N}$$\n",
        "\n",
        "$$\\frac{Ω_{2}}{Ω_{1}} = \\frac{\\biggl(\\frac{V_{2}e^{5/2}}{Nλ_{th}^{3}}\\biggl)^{N}}{\\biggl(\\frac{V_{1}e^{5/2}}{Nλ_{th}^{3}}\\biggl)^{N}}$$\n",
        "\n",
        "$$\\frac{Ω_{2}}{Ω_{1}} = \\Bigg(\\frac{\\frac{V_{2}e^{5/2}}{Nλ_{th}^{3}}}{\\frac{V_{1}e^{5/2}}{Nλ_{th}^{3}}}\\Bigg)^{N}$$\n",
        "\n",
        "$$\\frac{Ω_{2}}{Ω_{1}} = \\bigg(\\frac{V_{2}}{V_{1}}\\bigg)^{N}$$"
      ],
      "metadata": {
        "id": "rQS_RNxNDsrp"
      }
    },
    {
      "cell_type": "code",
      "source": [
        "P = 101325 # Pa\n",
        "T = 300 # K\n",
        "V_1 = 10 # m^3\n",
        "k_B = 1.38065E-23 # J/K\n",
        "\n",
        "V_2 = V_1*1.00001 # m^3\n",
        "N = (P*V_1)/(k_B*T)\n",
        "\n",
        "\n",
        "fraction = (V_2/V_1)\n",
        "print(f'Factor: {fraction}^{N}')"
      ],
      "metadata": {
        "id": "k0hZPStWEk_X",
        "outputId": "f8b5a39a-e393-46e5-c2ec-b2241f5dfada",
        "colab": {
          "base_uri": "https://localhost:8080/"
        }
      },
      "execution_count": null,
      "outputs": [
        {
          "output_type": "stream",
          "name": "stdout",
          "text": [
            "Factor: 1.00001^2.446311519936262e+26\n"
          ]
        }
      ]
    },
    {
      "cell_type": "markdown",
      "source": [
        "$1.3$\n",
        "\n",
        "By what factor does the number of available configurations increase when $150\\ kJ$ is added to a system containing $2.0\\ mol$ of particles at constant volume and $T = 300\\ K$?\n",
        "\n",
        "<center> Given the following four functions... </center>\n",
        "\n",
        "$$S = k_{B}\\lnΩ$$\n",
        "\n",
        "$$S = \\frac{U - F}{T}$$\n",
        "\n",
        "$$U = \\frac{3}{2}Nk_{B}T$$\n",
        "\n",
        "$$F = -Nk_{B}T\\ln\\bigg(\\frac{Ve}{Nλ_{th}^{3}}\\bigg)$$\n",
        "\n",
        "<center>...it can be shown that the number of states is independent of the energy </center>\n",
        "\n",
        "$$k_{B}\\lnΩ = \\frac{U - F}{T}$$\n",
        "\n",
        "$$\\lnΩ = \\frac{U - F}{k_{B}T}$$\n",
        "\n",
        "$$Ω = e^{(\\frac{U - F}{k_{B}T})}$$\n",
        "\n",
        "$$\\frac{Ω_{2}}{Ω_{1}} = \\frac{e^{(\\frac{U_{2} - F_{2}}{k_{B}T_{2}})}}{e^{(\\frac{U_{1} - F_{1}}{k_{B}T_{1}})}}$$\n",
        "\n",
        "$$\\frac{Ω_{2}}{Ω_{1}} = e^{(\\frac{U_{2} - F_{2}}{k_{B}T_{2}})}\\cdot e^{(\\frac{F_{1} - U_{1}}{k_{B}T_{1}})}$$\n",
        "\n",
        "$$\\frac{Ω_{2}}{Ω_{1}} = e^{\\bigg(\\frac{\\frac{3}{2}Nk_{B}T_{2} + Nk_{B}T_{2}\\ln(\\frac{Ve}{Nλ_{th}^{3}})}{k_{B}T_{2}}\\bigg)}\\cdot e^{\\bigg(\\frac{-Nk_{B}T_{1}\\ln(\\frac{Ve}{Nλ_{th}^{3}}) - \\frac{3}{2}Nk_{B}T_{1}}{k_{B}T_{1}}\\bigg)}$$\n",
        "\n",
        "$$\\frac{Ω_{2}}{Ω_{1}} = e^{\\bigg(\\frac{3}{2}N + N\\ln(\\frac{Ve}{Nλ_{th}^{3}})\\bigg)}\\cdot e^{\\bigg(-N\\ln(\\frac{Ve}{Nλ_{th}^{3}}) - \\frac{3}{2}N\\bigg)}$$\n",
        "\n",
        "$$\\frac{Ω_{2}}{Ω_{1}} = e^{0} = 1$$"
      ],
      "metadata": {
        "id": "pG-h3OJuErOx"
      }
    },
    {
      "cell_type": "code",
      "source": [
        "E_added = 150 #kJ\n",
        "R = 0.008314 #kJ/molK\n",
        "T_1 = 300 #K\n",
        "mol = 2 #mol\n",
        "avogadro = 6.022E23 # 1/mol\n",
        "\n",
        "E_initial = R*T_1*mol\n",
        "N = mol*avogadro\n",
        "\n",
        "delta_T = E_added/(3/2*N*k_B)\n",
        "T_2 = T_1 + delta_T\n",
        "\n",
        "\n",
        "\n"
      ],
      "metadata": {
        "id": "McVYWouuE893"
      },
      "execution_count": null,
      "outputs": []
    },
    {
      "cell_type": "markdown",
      "source": [
        "$1.3$ alternative\n",
        "\n",
        "$$ΔS = \\frac{ΔU}{T}$$\n",
        "\n",
        "$$ΔS = k_{B}\\ln\\frac{Ω_{2}}{Ω_{1}}$$\n",
        "\n",
        "$$k_{B}\\ln\\frac{Ω_{2}}{Ω_{1}} = \\frac{ΔU}{T}$$\n",
        "\n",
        "$$\\frac{Ω_{2}}{Ω_{1}} = e^{\\frac{ΔU}{k_{B}T}}$$"
      ],
      "metadata": {
        "id": "zGnPCIN5mMrY"
      }
    },
    {
      "cell_type": "code",
      "source": [
        "delta_U = 150000 # J\n",
        "T = 300 # K\n",
        "k_B = 1.38065E-23 # J/K\n",
        "\n",
        "delta_S = delta_U/T\n",
        "nat_log_factor = delta_S/k_B\n",
        "\n",
        "print(f'Factor: e^{nat_log_factor}')"
      ],
      "metadata": {
        "id": "uorHt6bxnO_V",
        "outputId": "8fe7831f-885e-412f-a7cc-f2981ddf59f1",
        "colab": {
          "base_uri": "https://localhost:8080/"
        }
      },
      "execution_count": 7,
      "outputs": [
        {
          "output_type": "stream",
          "name": "stdout",
          "text": [
            "Factor: e^3.6214826349907653e+25\n"
          ]
        }
      ]
    },
    {
      "cell_type": "markdown",
      "source": [
        "$1.4$\n",
        "\n",
        "A sample consisting of five molecules has a total energy $5ϵ$. Each molecule is able to occupy states of energy $ϵj$, with $j = 0,1,2,...,∞$. Draw up a table with columns by the energy of the states and write beneath them all configurations that are consistent with the total energy. Identify the type of configuration that is most probable."
      ],
      "metadata": {
        "id": "JQOoT2iaFBZI"
      }
    },
    {
      "cell_type": "code",
      "source": [],
      "metadata": {
        "id": "JwH-egHgFiQX"
      },
      "execution_count": null,
      "outputs": []
    }
  ]
}