{
  "nbformat": 4,
  "nbformat_minor": 0,
  "metadata": {
    "colab": {
      "provenance": [],
      "authorship_tag": "ABX9TyM+4yA9JzSm2PGIZmYzGRfN",
      "include_colab_link": true
    },
    "kernelspec": {
      "name": "python3",
      "display_name": "Python 3"
    },
    "language_info": {
      "name": "python"
    }
  },
  "cells": [
    {
      "cell_type": "markdown",
      "metadata": {
        "id": "view-in-github",
        "colab_type": "text"
      },
      "source": [
        "<a href=\"https://colab.research.google.com/github/djbell01/563-DawsonBell/blob/main/Problem_Set_1.ipynb\" target=\"_parent\"><img src=\"https://colab.research.google.com/assets/colab-badge.svg\" alt=\"Open In Colab\"/></a>"
      ]
    },
    {
      "cell_type": "code",
      "source": [
        "import numpy as np"
      ],
      "metadata": {
        "id": "FhqrKH03IZgY"
      },
      "execution_count": null,
      "outputs": []
    },
    {
      "cell_type": "markdown",
      "source": [
        "$1.1$\n",
        "\n",
        "Consider a system $A$ consisting of subsystems $A_{1}$ and $A_{2}$, for which $\\Omega_{1} = 10^{20}$ and $\\Omega_{2} = 10^{22}$. What is the number of configurations available to the combined system? Also, compute the entropies $S$, $S_{1}$, and $S_{2}$.\n",
        "\n",
        "\n",
        "$$Ω_{combined} = Ω_{1} * Ω_{2}$$\n",
        "\n",
        "$$S = k_{B}ln(Ω)$$"
      ],
      "metadata": {
        "id": "rlVLq_jxBkzp"
      }
    },
    {
      "cell_type": "code",
      "execution_count": null,
      "metadata": {
        "id": "xYZV6JzpBFWm",
        "outputId": "0be484eb-0243-4f04-b676-43caf627ee15",
        "colab": {
          "base_uri": "https://localhost:8080/"
        }
      },
      "outputs": [
        {
          "output_type": "stream",
          "name": "stdout",
          "text": [
            "Combined number of states = 9.999999999999999e+43\n",
            "Entropy of A_1 = 6.677727028192031e-22 J/K\n",
            "Entropy of A_2 = 7.3137010308769875e-22 J/K\n",
            "Combined system entropy = 1.3991428059069019e-21 J/K\n"
          ]
        }
      ],
      "source": [
        "omega_1 = 10e20\n",
        "omega_2 = 10e22\n",
        "k_B = 1.381e-23 # units of J/K\n",
        "\n",
        "combined_states = omega_1*omega_2\n",
        "\n",
        "S_1 = k_B*np.log(omega_1)\n",
        "S_2 = k_B*np.log(omega_2)\n",
        "S = k_B*np.log(combined_states)\n",
        "\n",
        "print(f'Combined number of states = {combined_states}')\n",
        "print(f'Entropy of A_1 = {S_1} J/K')\n",
        "print(f'Entropy of A_2 = {S_2} J/K')\n",
        "print(f'Combined system entropy = {S} J/K')"
      ]
    },
    {
      "cell_type": "markdown",
      "source": [
        "$1.2$\n",
        "\n",
        "By what factor does the number of available configurations increase when $10\\ m^{3}$ of air at $1.0\\ atm$ and $300\\ K$ is allowed to expand by $0.001\\%$ at constant temperature?\n",
        "\n",
        "$$S = Nk_{B}ln\\biggl(\\frac{Ve^{5/2}}{Nλ_{th}^{3}}\\biggr)$$\n",
        "\n",
        "$$S = k_{B}ln(Ω)$$\n",
        "\n",
        "$$k_{B}ln(Ω) = Nk_{B}ln\\biggl(\\frac{Ve^{5/2}}{Nλ_{th}^{3}}\\biggr)$$\n",
        "\n",
        "$$e^{ln(Ω)} = e^{Nln(\\frac{Ve^{5/2}}{Nλ_{th}^{3}})}$$\n",
        "\n",
        "$$Ω = e^{ln((\\frac{Ve^{5/2}}{Nλ_{th}^{3}})^{N})}$$\n",
        "\n",
        "$$Ω = \\biggl(\\frac{Ve^{5/2}}{Nλ_{th}^{3}}\\biggl)^{N}$$\n",
        "\n",
        "$$\\frac{Ω_{2}}{Ω_{1}} = \\frac{\\biggl(\\frac{V_{2}e^{5/2}}{Nλ_{th}^{3}}\\biggl)^{N}}{\\biggl(\\frac{V_{1}e^{5/2}}{Nλ_{th}^{3}}\\biggl)^{N}}$$\n",
        "\n",
        "$$\\frac{Ω_{2}}{Ω_{1}} = \\Bigg(\\frac{\\frac{V_{2}e^{5/2}}{Nλ_{th}^{3}}}{\\frac{V_{1}e^{5/2}}{Nλ_{th}^{3}}}\\Bigg)^{N}$$\n",
        "\n",
        "$$\\frac{Ω_{2}}{Ω_{1}} = \\bigg(\\frac{V_{2}}{V_{1}}\\bigg)^{N}$$"
      ],
      "metadata": {
        "id": "rQS_RNxNDsrp"
      }
    },
    {
      "cell_type": "code",
      "source": [
        "# n = 100000000 # any number, because we only care about the factor\n",
        "# n_2 = n*1.00001\n",
        "# n_cubed = n**3\n",
        "# n_2_cubed = n_2**3\n",
        "# ratio = n_2_cubed/n_cubed\n",
        "# print(f'Factor = {ratio}')\n",
        "\n",
        "P = 101325 # Pa\n",
        "T = 300 # K\n",
        "V_1 = 10 # m^3\n",
        "k_B = 1.38065E-23 # J/K\n",
        "\n",
        "V_2 = V_1*1.00001 # m^3\n",
        "N = (P*V_1)/(k_B*T)\n",
        "\n",
        "\n",
        "fraction = (V_2/V_1)\n",
        "print(f'Factor: {fraction}^{N}')"
      ],
      "metadata": {
        "id": "k0hZPStWEk_X",
        "outputId": "f8b5a39a-e393-46e5-c2ec-b2241f5dfada",
        "colab": {
          "base_uri": "https://localhost:8080/"
        }
      },
      "execution_count": 9,
      "outputs": [
        {
          "output_type": "stream",
          "name": "stdout",
          "text": [
            "Factor: 1.00001^2.446311519936262e+26\n"
          ]
        }
      ]
    },
    {
      "cell_type": "markdown",
      "source": [
        "$1.3$\n",
        "\n",
        "By what factor does the number of available configurations increase when $150\\ kJ$ is added to a system containing $2.0\\ mol$ of particles at constant volume and $T = 300\\ K$?\n",
        "\n",
        "$$E = \\frac{3}{2}RT$$"
      ],
      "metadata": {
        "id": "pG-h3OJuErOx"
      }
    },
    {
      "cell_type": "code",
      "source": [
        "E = 150 #kJ\n",
        "R = 0.008314 #kJ/molK\n",
        "T_initial = 300 #K\n",
        "n = 2 #mol\n",
        "\n",
        "T_final = T_initial + (2/3)*E/R\n",
        "dSdE = 1/T_final"
      ],
      "metadata": {
        "id": "McVYWouuE893"
      },
      "execution_count": null,
      "outputs": []
    },
    {
      "cell_type": "markdown",
      "source": [
        "$1.4$\n",
        "\n",
        "A sample consisting of five molecules has a total energy $5ϵ$. Each molecule is able to occupy states of energy $ϵj$, with $j = 0,1,2,...,∞$. Draw up a table with columns by the energy of the states and write beneath them all configurations that are consistent with the total energy. Identify the type of configuration that is most probable."
      ],
      "metadata": {
        "id": "JQOoT2iaFBZI"
      }
    },
    {
      "cell_type": "code",
      "source": [],
      "metadata": {
        "id": "JwH-egHgFiQX"
      },
      "execution_count": null,
      "outputs": []
    }
  ]
}