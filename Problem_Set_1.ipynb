{
  "nbformat": 4,
  "nbformat_minor": 0,
  "metadata": {
    "colab": {
      "provenance": [],
      "authorship_tag": "ABX9TyOW6RLhMceHKv63qCFA8Hae",
      "include_colab_link": true
    },
    "kernelspec": {
      "name": "python3",
      "display_name": "Python 3"
    },
    "language_info": {
      "name": "python"
    }
  },
  "cells": [
    {
      "cell_type": "markdown",
      "metadata": {
        "id": "view-in-github",
        "colab_type": "text"
      },
      "source": [
        "<a href=\"https://colab.research.google.com/github/djbell01/563-DawsonBell/blob/main/Problem_Set_1.ipynb\" target=\"_parent\"><img src=\"https://colab.research.google.com/assets/colab-badge.svg\" alt=\"Open In Colab\"/></a>"
      ]
    },
    {
      "cell_type": "code",
      "source": [
        "import numpy as np"
      ],
      "metadata": {
        "id": "FhqrKH03IZgY"
      },
      "execution_count": 2,
      "outputs": []
    },
    {
      "cell_type": "markdown",
      "source": [
        "$1.1$\n",
        "\n",
        "Consider a system $A$ consisting of subsystems $A_{1}$ and $A_{2}$, for which $\\Omega_{1} = 10^{20}$ and $\\Omega_{2} = 10^{22}$. What is the number of configurations available to the combined system? Also, compute the entropies $S$, $S_{1}$, and $S_{2}$.\n",
        "\n",
        "\n",
        "$$Ω_{combined} = Ω_{1} \\cdot Ω_{2}$$\n",
        "\n",
        "$$S = k_{B}\\ln(Ω)$$"
      ],
      "metadata": {
        "id": "rlVLq_jxBkzp"
      }
    },
    {
      "cell_type": "code",
      "execution_count": null,
      "metadata": {
        "id": "xYZV6JzpBFWm",
        "outputId": "0be484eb-0243-4f04-b676-43caf627ee15",
        "colab": {
          "base_uri": "https://localhost:8080/"
        }
      },
      "outputs": [
        {
          "output_type": "stream",
          "name": "stdout",
          "text": [
            "Combined number of states = 9.999999999999999e+43\n",
            "Entropy of A_1 = 6.677727028192031e-22 J/K\n",
            "Entropy of A_2 = 7.3137010308769875e-22 J/K\n",
            "Combined system entropy = 1.3991428059069019e-21 J/K\n"
          ]
        }
      ],
      "source": [
        "omega_1 = 10e20\n",
        "omega_2 = 10e22\n",
        "k_B = 1.381e-23 # units of J/K\n",
        "\n",
        "combined_states = omega_1*omega_2\n",
        "\n",
        "S_1 = k_B*np.log(omega_1)\n",
        "S_2 = k_B*np.log(omega_2)\n",
        "S = k_B*np.log(combined_states)\n",
        "\n",
        "print(f'Combined number of states = {combined_states}')\n",
        "print(f'Entropy of A_1 = {S_1} J/K')\n",
        "print(f'Entropy of A_2 = {S_2} J/K')\n",
        "print(f'Combined system entropy = {S} J/K')"
      ]
    },
    {
      "cell_type": "markdown",
      "source": [
        "$1.2$\n",
        "\n",
        "By what factor does the number of available configurations increase when $10\\ m^{3}$ of air at $1.0\\ atm$ and $300\\ K$ is allowed to expand by $0.001\\%$ at constant temperature?\n",
        "\n",
        "$$S = Nk_{B}\\ln\\biggl(\\frac{Ve^{5/2}}{Nλ_{th}^{3}}\\biggr)$$\n",
        "\n",
        "$$S = k_{B}\\ln(Ω)$$\n",
        "\n",
        "$$k_{B}\\ln(Ω) = Nk_{B}\\ln\\biggl(\\frac{Ve^{5/2}}{Nλ_{th}^{3}}\\biggr)$$\n",
        "\n",
        "$$e^{\\ln(Ω)} = e^{N\\ln(\\frac{Ve^{5/2}}{Nλ_{th}^{3}})}$$\n",
        "\n",
        "$$Ω = e^{\\ln((\\frac{Ve^{5/2}}{Nλ_{th}^{3}})^{N})}$$\n",
        "\n",
        "$$Ω = \\biggl(\\frac{Ve^{5/2}}{Nλ_{th}^{3}}\\biggl)^{N}$$\n",
        "\n",
        "$$\\frac{Ω_{2}}{Ω_{1}} = \\frac{\\biggl(\\frac{V_{2}e^{5/2}}{Nλ_{th}^{3}}\\biggl)^{N}}{\\biggl(\\frac{V_{1}e^{5/2}}{Nλ_{th}^{3}}\\biggl)^{N}}$$\n",
        "\n",
        "$$\\frac{Ω_{2}}{Ω_{1}} = \\Bigg(\\frac{\\frac{V_{2}e^{5/2}}{Nλ_{th}^{3}}}{\\frac{V_{1}e^{5/2}}{Nλ_{th}^{3}}}\\Bigg)^{N}$$\n",
        "\n",
        "$$\\frac{Ω_{2}}{Ω_{1}} = \\bigg(\\frac{V_{2}}{V_{1}}\\bigg)^{N}$$"
      ],
      "metadata": {
        "id": "rQS_RNxNDsrp"
      }
    },
    {
      "cell_type": "code",
      "source": [
        "P = 101325 # Pa\n",
        "T = 300 # K\n",
        "V_1 = 10 # m^3\n",
        "k_B = 1.38065E-23 # J/K\n",
        "\n",
        "V_2 = V_1*1.00001 # m^3\n",
        "N = (P*V_1)/(k_B*T)\n",
        "\n",
        "\n",
        "fraction = (V_2/V_1)\n",
        "print(f'Factor: {fraction}^{N}')"
      ],
      "metadata": {
        "id": "k0hZPStWEk_X",
        "outputId": "f8b5a39a-e393-46e5-c2ec-b2241f5dfada",
        "colab": {
          "base_uri": "https://localhost:8080/"
        }
      },
      "execution_count": null,
      "outputs": [
        {
          "output_type": "stream",
          "name": "stdout",
          "text": [
            "Factor: 1.00001^2.446311519936262e+26\n"
          ]
        }
      ]
    },
    {
      "cell_type": "markdown",
      "source": [
        "$1.3$\n",
        "\n",
        "By what factor does the number of available configurations increase when $150\\ kJ$ is added to a system containing $2.0\\ mol$ of particles at constant volume and $T = 300\\ K$?\n",
        "\n",
        "$$ΔS = C_{v}\\ln\\frac{T_{2}}{T_{1}}$$\n",
        "\n",
        "$$C_{v} = \\frac{3}{2}nR$$\n",
        "\n",
        "$$ΔU = C_{v}ΔT$$"
      ],
      "metadata": {
        "id": "zGnPCIN5mMrY"
      }
    },
    {
      "cell_type": "code",
      "source": [
        "delta_U = 150000 # J\n",
        "T_1 = 300 # K\n",
        "R = 8.314 # J/molK\n",
        "k_B = 1.38065E-23 # J/K\n",
        "n = 2.0 # mol\n",
        "\n",
        "C_v = (3/2)*n*R\n",
        "delta_T = delta_U/C_v\n",
        "T_2 = T_1 + delta_T\n",
        "\n",
        "delta_S = C_v*np.log(T_2/T_1)\n",
        "exponent = delta_S/k_B\n",
        "print(f'Factor = e^{exponent}')"
      ],
      "metadata": {
        "id": "uorHt6bxnO_V",
        "outputId": "1116872b-323f-4538-d15f-3367d25f4c1d",
        "colab": {
          "base_uri": "https://localhost:8080/"
        }
      },
      "execution_count": 4,
      "outputs": [
        {
          "output_type": "stream",
          "name": "stdout",
          "text": [
            "Factor = e^5.504049227555487e+24\n"
          ]
        }
      ]
    },
    {
      "cell_type": "markdown",
      "source": [
        "$1.4$\n",
        "\n",
        "A sample consisting of five molecules has a total energy $5ϵ$. Each molecule is able to occupy states of energy $ϵj$, with $j = 0,1,2,...,∞$. Draw up a table with columns by the energy of the states and write beneath them all configurations that are consistent with the total energy. Identify the type of configuration that is most probable.\n",
        "\n",
        "$$Ω = \\frac{N!}{∏_{i}n_{i}!}$$\n",
        "\n",
        "<center>Where $N$ is the total number of particles</center>\n",
        "<center>and $n_{i}$ is the number of particles in the $i^{th}$ energy level.</center>"
      ],
      "metadata": {
        "id": "JQOoT2iaFBZI"
      }
    },
    {
      "cell_type": "code",
      "source": [
        "from scipy.special import factorial\n",
        "\n",
        "table = np.array([[4,0,0,0,0,1],\n",
        "                  [3,1,0,0,1,0],\n",
        "                  [3,0,1,1,0,0],\n",
        "                  [2,2,0,1,0,0],\n",
        "                  [2,1,2,0,0,0],\n",
        "                  [1,3,1,0,0,0],\n",
        "                  [0,5,0,0,0,0]])\n",
        "# axis 0 (rows) has the different configurations, axis 1 (columns) indices give the energy level\n",
        "\n",
        "omega_list = []\n",
        "\n",
        "for i,configuration in enumerate(table):\n",
        "  omega = factorial(5)/np.prod(factorial(configuration))\n",
        "  omega_list.append(omega)\n",
        "\n",
        "max = np.argmax(omega_list)\n",
        "print(omega_list)\n",
        "epsilon = \"\\u03B5\"\n",
        "print(f'The most probable configurations are (2*0{epsilon},2*1{epsilon},1*3{epsilon}) and (2*0{epsilon},1*1{epsilon},2*2{epsilon})')"
      ],
      "metadata": {
        "id": "JwH-egHgFiQX",
        "outputId": "365dc817-25f4-446f-98c3-c2996bdb993f",
        "colab": {
          "base_uri": "https://localhost:8080/"
        }
      },
      "execution_count": 17,
      "outputs": [
        {
          "output_type": "stream",
          "name": "stdout",
          "text": [
            "[5.0, 20.0, 20.0, 30.0, 30.0, 20.0, 1.0]\n",
            "The most probable configurations are (2*0ε,2*1ε,1*3ε) and (2*0ε,1*1ε,2*2ε)\n"
          ]
        }
      ]
    }
  ]
}