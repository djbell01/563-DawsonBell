{
  "cells": [
    {
      "cell_type": "markdown",
      "metadata": {
        "colab_type": "text",
        "id": "view-in-github"
      },
      "source": [
        "<a href=\"https://colab.research.google.com/github/djbell01/563-DawsonBell/blob/main/Project2_DBell.ipynb\" target=\"_parent\"><img src=\"https://colab.research.google.com/assets/colab-badge.svg\" alt=\"Open In Colab\"/></a>"
      ]
    },
    {
      "cell_type": "code",
      "execution_count": null,
      "metadata": {
        "id": "JWwWKLhsW0Lr"
      },
      "outputs": [],
      "source": [
        "import hoomd\n",
        "import numpy as np\n",
        "import pandas as pd\n",
        "import matplotlib.pyplot as plt\n",
        "import freud\n",
        "import gsd.hoomd\n",
        "import os"
      ]
    },
    {
      "cell_type": "code",
      "execution_count": null,
      "metadata": {},
      "outputs": [],
      "source": [
        "class Simulation():\n",
        "    def __init__(self,folder_name,T,dt=0.001,density=0.5,epsilon=1.0,sigma=1.0,unit_cell_replicas=20):\n",
        "        self.folder_name = folder_name\n",
        "        self.kBT = T # Assume kB = 1\n",
        "        self.dt = dt\n",
        "        self.density = density\n",
        "        self.epsilon = epsilon\n",
        "        self.sigma = sigma\n",
        "        self.num_replicas = unit_cell_replicas\n",
        "\n",
        "        device = hoomd.device.CPU()\n",
        "        seed = np.random.randint(1,1e4)\n",
        "        self.simulation = hoomd.Simulation(device = device, seed = seed)\n",
        "\n",
        "        #a is the spacing between particles\n",
        "        a = 1/(density**(1/3.0))\n",
        "        #We want a number of particles N in our system.\n",
        "        #Since we will be replicating the system in 3 dimensions, the number of unit cells we need is N^(1/3)\n",
        "        N_particles = self.num_replicas**3\n",
        "        grid_particles = freud.data.UnitCell([a,a,a,0,0,0],[[0,0,0]]).generate_system(self.num_replicas)\n",
        "        self.box_length = grid_particles[0].Lx\n",
        "\n",
        "        frame = gsd.hoomd.Frame()\n",
        "        frame.particles.N = N_particles\n",
        "        frame.particles.position = grid_particles[1]\n",
        "        frame.configuration.box = [self.box_length,self.box_length,self.box_length,0,0,0]\n",
        "\n",
        "        #Types of particles define different interactions. In an atomistic simulation these might be C, O, and H.\n",
        "        #in a coarse-grained simulation we can give them a simple name like A\n",
        "        frame.particles.typeid = [0]*N_particles\n",
        "        frame.particles.types = ['A']\n",
        "\n",
        "        os.mkdir(folder_name)\n",
        "\n",
        "        #Finally, save our initial state:\n",
        "        with gsd.hoomd.open(name=folder_name+'/initial_state.gsd', mode='w') as f:\n",
        "            f.append(frame)\n",
        "\n",
        "        self.simulation.create_state_from_gsd(filename=folder_name+'/initial_state.gsd')\n",
        "\n",
        "        integrator = hoomd.md.Integrator(dt = dt)\n",
        "        nvt = hoomd.md.methods.NVT(filter = hoomd.filter.All(),kT=self.kBT,tau=1.0)\n",
        "        integrator.methods.append(nvt)\n",
        "\n",
        "        cell = hoomd.md.nlist.Cell(buffer=0.4)\n",
        "\n",
        "        #Define the force for different particles\n",
        "        lj = hoomd.md.pair.LJ(nlist=cell)\n",
        "\n",
        "        lj.params[('A', 'A')] = {\"epsilon\":epsilon, \"sigma\":sigma}\n",
        "\n",
        "        lj.r_cut[('A', 'A')] = 2.5*sigma\n",
        "\n",
        "        integrator.forces.append(lj)\n",
        "        self.simulation.operations.integrator = integrator\n",
        "\n",
        "        self.simulation.state.thermalize_particle_momenta(filter=hoomd.filter.All(), kT=self.kBT)\n",
        "        thermodynamic_properties = hoomd.md.compute.ThermodynamicQuantities(\n",
        "            filter=hoomd.filter.All()\n",
        "        )\n",
        "\n",
        "        self.simulation.operations.computes.append(thermodynamic_properties)\n",
        "        logger = hoomd.logging.Logger(categories=['scalar'])\n",
        "        logger.add(thermodynamic_properties, quantities=['potential_energy','kinetic_energy'])\n",
        "        energy_table = hoomd.write.Table(trigger=hoomd.trigger.Periodic(period=int(1)), logger=logger, output=open(f'{folder_name}/dt_{str(dt)}.csv','w'))\n",
        "        self.simulation.operations.writers.append(energy_table)\n",
        "\n",
        "\n",
        "    def run(self,nsteps):\n",
        "        self.simulation.run(nsteps)\n",
        "        snapshot = self.simulation.state.get_snapshot()\n",
        "        positions = snapshot.particles.position\n",
        "        np.savetxt(f\"{self.folder_name}/final_positions.txt\", positions, delimiter=\" \")\n",
        "\n",
        "        with open(f'{self.folder_name}/parameters','w') as file:\n",
        "             file.write(f'N_particles = {self.num_replicas**3}\\n')\n",
        "             file.write(f'N/V = {self.density}\\n')\n",
        "             file.write(f'Box length = {self.box_length}\\n')\n",
        "             file.write(f'kBT = {self.kBT}\\n')\n",
        "             file.write(f'Timestep = {self.dt}\\n')\n",
        "             file.write(f'Epsilon = {self.epsilon}\\n')\n",
        "             file.write(f'Sigma = {self.sigma}\\n')\n",
        "             file.write(f'Unit Cell Replicas = {self.num_replicas}')\n",
        "\n",
        "\n",
        "\n",
        "# Independent functions\n",
        "def plot_total_energy(file_name):\n",
        "        df = pd.read_csv(file_name,sep='\\s+')\n",
        "        total_energy = (df['md.compute.ThermodynamicQuantities.potential_energy'] + df['md.compute.ThermodynamicQuantities.kinetic_energy']).to_numpy()\n",
        "\n",
        "        plt.plot(total_energy)\n",
        "        plt.xlabel('Timestep')\n",
        "        plt.ylabel('Energy')\n",
        "        plt.show()\n",
        "\n",
        "def autocorr1D(array):\n",
        "    ft = np.fft.rfft(array - np.average(array))\n",
        "    acorr = np.fft.irfft(ft * np.conjugate(ft)) / (len(array) * np.var(array))\n",
        "    decorr_time = np.where(acorr<0)[0][0]\n",
        "    return decorr_time\n",
        "\n",
        "def heat_capacity(energy_array,temperature,equilibration_length):\n",
        "        decorr_time = autocorr1D(energy_array)\n",
        "        print(decorr_time)\n",
        "\n",
        "        samples = energy_array[equilibration_length::decorr_time]\n",
        "        samples_squared = samples**2\n",
        "\n",
        "        return (np.mean(samples)**2 + np.mean(samples_squared))/(temperature**2)\n",
        "\n",
        "\n",
        "def pbc(d,L):\n",
        "    for i,x in enumerate(d):\n",
        "      if x > L/2:\n",
        "        d[i] = x-L\n",
        "      elif x <= -L/2:\n",
        "        d[i] = x+L\n",
        "    return d\n",
        "\n",
        "\n",
        "def rdf(file_name,box_length,density):\n",
        "    positions = np.loadtxt(file_name)\n",
        "    num_particles = len(positions)\n",
        "    histograms = []\n",
        "    for i,p_i in enumerate(positions):\n",
        "      distances = []\n",
        "      for j,p_j in enumerate(positions):\n",
        "        if i == j:\n",
        "            continue\n",
        "        diff = p_i - p_j\n",
        "        diff = pbc(diff,box_length)\n",
        "        distance = np.linalg.norm(diff)\n",
        "        distances.append(distance)\n",
        "      hist,bin_edges = np.histogram(distances,bins=1000,range=(0,box_length/2))\n",
        "      histograms.append(hist)\n",
        "    avg_hist = np.mean(histograms,axis=0)\n",
        "    bin_edges = np.delete(bin_edges,0)\n",
        "    volumes = []\n",
        "    for i in range(len(bin_edges)):\n",
        "        if i == 0:\n",
        "            vol = (4/3)*np.pi*bin_edges[i]**3\n",
        "        else:\n",
        "            vol = (4/3)*np.pi*bin_edges[i]**3 - volumes[i-1]\n",
        "        volumes.append(vol)\n",
        "    volumes = np.array(volumes)\n",
        "    normalized_hist = avg_hist/ (volumes * density * num_particles)\n",
        "    return bin_edges,normalized_hist\n",
        "\n",
        "\n",
        "          \n"
      ]
    },
    {
      "cell_type": "code",
      "execution_count": null,
      "metadata": {},
      "outputs": [],
      "source": [
        "# This is code that google gemini came up with. It substantially increases the efficiency\n",
        "# and corrects problems I was having with the normalization of the RDF. Hopefully it is okay\n",
        "# to use this. I'm putting this in a commit so that it doesn't seems like I'm trying to hide\n",
        "# my using of generative AI to help with the project. My attempt at an RDF and PBC are shown above.\n",
        "\n",
        "def pbc(d, L):\n",
        "    return np.where(d > L / 2, d - L, np.where(d <= -L / 2, d + L, d))\n",
        "\n",
        "def rdf(file_name, box_length, density):\n",
        "    positions = np.loadtxt(file_name)\n",
        "    num_particles = len(positions)\n",
        "    max_radius = box_length / 2\n",
        "    num_bins = 1000\n",
        "    bin_edges = np.linspace(0, max_radius, num_bins + 1)\n",
        "    hist = np.zeros(num_bins)\n",
        "\n",
        "    for i in range(num_particles):\n",
        "        diff = positions - positions[i]\n",
        "        diff = pbc(diff, box_length)\n",
        "        distances = np.linalg.norm(diff, axis=1)\n",
        "        distances = distances[distances > 0]  # Exclude self-interaction\n",
        "        hist += np.histogram(distances, bins=bin_edges)[0]\n",
        "\n",
        "    bin_centers = (bin_edges[:-1] + bin_edges[1:]) / 2\n",
        "    volumes = (4 / 3) * np.pi * (bin_edges[1:]**3 - bin_edges[:-1]**3)\n",
        "    normalized_hist = hist / (volumes * density * num_particles)\n",
        "    return bin_centers, normalized_hist"
      ]
    },
    {
      "cell_type": "markdown",
      "metadata": {},
      "source": [
        "#### 1. Characterize your model's behavior at N/V = 0.5 in the NVT ensemble.\n",
        "a. Above what temperature is your system \"hot\"? How do you know?<br>\n",
        "b. Below what temperature is your system \"frozen\"? How do you know?<br>\n",
        "c. How does the system's total energy, potential energy, kinetic energy, heat capacity, and structure vary from frozen to too hot?<br>"
      ]
    },
    {
      "cell_type": "code",
      "execution_count": null,
      "metadata": {
        "id": "lAG5t3S1X8WL"
      },
      "outputs": [],
      "source": [
        "T_01 = Simulation('T_0.1',T=0.1)\n",
        "T_01.run(500000)\n",
        "\n",
        "T_05 = Simulation('T_0.5',T=0.5)\n",
        "T_05.run(500000)\n",
        "\n",
        "T_1 = Simulation('T_1.0',T=1.0)\n",
        "T_1.run(500000)\n",
        "\n",
        "T_5 = Simulation('T_5.0',T=5.0)\n",
        "T_5.run(1000000)\n",
        "\n",
        "T_10 = Simulation('T_10.0',T=10.0)\n",
        "T_10.run(1000000)"
      ]
    },
    {
      "cell_type": "code",
      "execution_count": null,
      "metadata": {},
      "outputs": [],
      "source": [
        "default_box_length = 25.198421478271484"
      ]
    },
    {
      "cell_type": "code",
      "execution_count": null,
      "metadata": {},
      "outputs": [],
      "source": [
        "# Note: I had to calculate rdfs in separate cells. Running a loop for some reason leads to an error.\n",
        "# I have to re-run the cell that defines the rdf function between each calculation. I'm not sure what is causing\n",
        "# this bug, unfortunately, but that is the reasoning for this sub-optimal code structure.\n",
        "\n",
        "bins,hist = rdf('T_0.1/final_positions.txt',default_box_length,0.5)\n",
        "rdf = np.array([bins,hist])\n",
        "np.savetxt(\"T_0.1/rdf.txt\", rdf.T, delimiter=\" \")"
      ]
    },
    {
      "cell_type": "code",
      "execution_count": null,
      "metadata": {},
      "outputs": [],
      "source": [
        "df = pd.read_csv('T_0.1/rdf.txt',names=('bins','freq'),sep=None)\n",
        "plt.plot(df['bins'],df['freq'])\n",
        "plt.show()"
      ]
    },
    {
      "cell_type": "code",
      "execution_count": null,
      "metadata": {},
      "outputs": [],
      "source": [
        "bins,hist = rdf('T_0.5/final_positions.txt',default_box_length)\n",
        "rdf = np.array([bins,hist])\n",
        "np.savetxt(\"T_0.5/rdf.txt\", rdf.T, delimiter=\" \")"
      ]
    },
    {
      "cell_type": "code",
      "execution_count": null,
      "metadata": {},
      "outputs": [],
      "source": [
        "bins,hist = rdf('T_1.0/final_positions.txt',default_box_length)\n",
        "rdf = np.array([bins,hist])\n",
        "np.savetxt(\"T_1.0/rdf.txt\", rdf.T, delimiter=\" \")"
      ]
    },
    {
      "cell_type": "code",
      "execution_count": null,
      "metadata": {},
      "outputs": [],
      "source": [
        "bins,hist = rdf('T_5.0/final_positions.txt',default_box_length)\n",
        "rdf = np.array([bins,hist])\n",
        "np.savetxt(\"T_5.0/rdf.txt\", rdf.T, delimiter=\" \")"
      ]
    },
    {
      "cell_type": "code",
      "execution_count": null,
      "metadata": {},
      "outputs": [],
      "source": [
        "bins,hist = rdf('T_10.0/final_positions.txt',default_box_length)\n",
        "rdf = np.array([bins,hist])\n",
        "np.savetxt(\"T_10.0/rdf.txt\", rdf.T, delimiter=\" \")"
      ]
    },
    {
      "cell_type": "code",
      "execution_count": null,
      "metadata": {},
      "outputs": [],
      "source": [
        "file_list = ['T_0.1','T_0.5','T_1.0','T_5.0','T_10.0']\n",
        "\n",
        "\n",
        "for file in file_list:\n",
        "    df = pd.read_csv(f'{file}/rdf.txt',names=('bins','freq'),sep=None)\n",
        "    plt.plot(df['bins'],df['freq'])\n",
        "    plt.show()\n",
        "    \n"
      ]
    },
    {
      "cell_type": "markdown",
      "metadata": {},
      "source": [
        "#### 2. Characterize finite size effects.\n",
        "a. How small is too small to be correct? How large is too large to be practical?"
      ]
    },
    {
      "cell_type": "code",
      "execution_count": null,
      "metadata": {},
      "outputs": [],
      "source": []
    },
    {
      "cell_type": "markdown",
      "metadata": {},
      "source": [
        "#### 3. Contrast your system with an ideal gas.<br>\n",
        "a. How does the structure of your model vary with state, and how does it compare to particles with no interactions?<br>\n",
        "b. Does the heat capacity of your system depend on state differently than an ideal gas?<br>\n",
        "c. Can you derive or numerically determine an equation of state?"
      ]
    },
    {
      "cell_type": "code",
      "execution_count": null,
      "metadata": {},
      "outputs": [],
      "source": []
    },
    {
      "cell_type": "markdown",
      "metadata": {},
      "source": [
        "#### 4. Summarize your observations, challenges, and any revelations you had while working towards 1-3. Which specific simulation and state point was your favorite and why?"
      ]
    }
  ],
  "metadata": {
    "colab": {
      "authorship_tag": "ABX9TyP2M2J5QghDCICBFSdQOXFC",
      "include_colab_link": true,
      "provenance": []
    },
    "kernelspec": {
      "display_name": "563-project",
      "language": "python",
      "name": "python3"
    },
    "language_info": {
      "codemirror_mode": {
        "name": "ipython",
        "version": 3
      },
      "file_extension": ".py",
      "mimetype": "text/x-python",
      "name": "python",
      "nbconvert_exporter": "python",
      "pygments_lexer": "ipython3",
      "version": "3.11.11"
    }
  },
  "nbformat": 4,
  "nbformat_minor": 0
}
