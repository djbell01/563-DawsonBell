{
  "nbformat": 4,
  "nbformat_minor": 0,
  "metadata": {
    "colab": {
      "provenance": [],
      "authorship_tag": "ABX9TyPicHSYag8ie381FCIBQ97b",
      "include_colab_link": true
    },
    "kernelspec": {
      "name": "python3",
      "display_name": "Python 3"
    },
    "language_info": {
      "name": "python"
    }
  },
  "cells": [
    {
      "cell_type": "markdown",
      "metadata": {
        "id": "view-in-github",
        "colab_type": "text"
      },
      "source": [
        "<a href=\"https://colab.research.google.com/github/djbell01/563-DawsonBell/blob/main/Problem_Set_2.ipynb\" target=\"_parent\"><img src=\"https://colab.research.google.com/assets/colab-badge.svg\" alt=\"Open In Colab\"/></a>"
      ]
    },
    {
      "cell_type": "code",
      "source": [
        "import numpy as np\n",
        "import pandas as pd\n",
        "import matplotlib.pyplot as plt"
      ],
      "metadata": {
        "id": "_z5UrLgpQyaN"
      },
      "execution_count": 46,
      "outputs": []
    },
    {
      "cell_type": "code",
      "execution_count": 47,
      "metadata": {
        "id": "BefcBlZXOQld"
      },
      "outputs": [],
      "source": [
        "def return_energy(coordinates):\n",
        "  energy = 0\n",
        "  for i in range(len(coordinates['x'])):\n",
        "    for j in range(len(coordinates['x'])):\n",
        "      if i >= j:\n",
        "        continue\n",
        "\n",
        "      else:\n",
        "        x_1 = coordinates['x'][i]\n",
        "        x_2 = coordinates['x'][j]\n",
        "        y_1 = coordinates['y'][i]\n",
        "        y_2 = coordinates['y'][j]\n",
        "\n",
        "        if  ((y_1 == y_2) and (np.abs(x_2 - x_1) == 1)) or ((x_1 == x_2) and (np.abs(y_2 - y_1) == 1)):\n",
        "          energy -= 1\n",
        "\n",
        "        else:\n",
        "          continue\n",
        "\n",
        "  return energy\n",
        "\n",
        "\n",
        "def plot_grid(coordinates):\n",
        "    fig = plt.figure()\n",
        "    ax = fig.add_subplot(1, 1, 1)\n",
        "\n",
        "    # Calculate the max value for grid boundaries\n",
        "    max_value = int(np.max([np.max(coordinates['x']), np.max(coordinates['y'])]))\n",
        "\n",
        "    # Define gridlines that align correctly\n",
        "    gridlines = np.arange(0, max_value + 2)  # Include 0 to max_value + 1\n",
        "\n",
        "    # Set major ticks at integer values\n",
        "    ax.set_xticks(gridlines)\n",
        "    ax.set_yticks(gridlines)\n",
        "\n",
        "    # Set minor ticks in between\n",
        "    minor_ticks = gridlines - 0.5\n",
        "    ax.set_xticks(minor_ticks, minor=True)\n",
        "    ax.set_yticks(minor_ticks, minor=True)\n",
        "\n",
        "    # Add grid lines for minor ticks\n",
        "    ax.grid(which='minor')\n",
        "\n",
        "    # Turn off tick labels\n",
        "    ax.tick_params(axis='both', which='both', length=0)\n",
        "\n",
        "    # Plot the point\n",
        "    ax.scatter(coordinates['x'], coordinates['y'], 500)\n",
        "\n",
        "    # Set bounds and aspect ratio\n",
        "    ax.set_xlim(-0.5, max_value + 0.5)\n",
        "    ax.set_ylim(-0.5, max_value + 0.5)\n",
        "    ax.set_aspect('equal', adjustable='box')\n",
        "\n",
        "    return fig\n",
        ""
      ]
    },
    {
      "cell_type": "code",
      "source": [
        "# Figure 2.1 A\n",
        "\n",
        "dict = {'x' : [1,2],\n",
        "        'y' : [3,2]}\n",
        "coords = pd.DataFrame(dict)\n",
        "\n",
        "print(f'Energy of Configuration: {return_energy(coords)}\\N{greek small letter epsilon}')\n",
        "fig = plot_grid(coords)\n",
        "plt.show()"
      ],
      "metadata": {
        "id": "V83K-8QcXyCJ",
        "outputId": "14dc36e5-0738-4bf0-b4da-81ed1f732e2b",
        "colab": {
          "base_uri": "https://localhost:8080/",
          "height": 442
        }
      },
      "execution_count": 48,
      "outputs": [
        {
          "output_type": "stream",
          "name": "stdout",
          "text": [
            "Energy of Configuration: 0ε\n"
          ]
        },
        {
          "output_type": "display_data",
          "data": {
            "text/plain": [
              "<Figure size 640x480 with 1 Axes>"
            ],
            "image/png": "[encoded data removed]"
          },
          "metadata": {}
        }
      ]
    },
    {
      "cell_type": "code",
      "source": [
        "# Figure 2.1 B\n",
        "\n",
        "dict = {'x' : [0,1],\n",
        "        'y' : [2,2]}\n",
        "coords = pd.DataFrame(dict)\n",
        "\n",
        "print(f'Energy of Configuration: {return_energy(coords)}\\N{greek small letter epsilon}')\n",
        "fig = plot_grid(coords)\n",
        "plt.show()"
      ],
      "metadata": {
        "id": "QTqS8wbcrHV_",
        "outputId": "0e304605-d0e5-41f5-d3ef-6c710579b9d5",
        "colab": {
          "base_uri": "https://localhost:8080/",
          "height": 442
        }
      },
      "execution_count": 49,
      "outputs": [
        {
          "output_type": "stream",
          "name": "stdout",
          "text": [
            "Energy of Configuration: -1ε\n"
          ]
        },
        {
          "output_type": "display_data",
          "data": {
            "text/plain": [
              "<Figure size 640x480 with 1 Axes>"
            ],
            "image/png": "[encoded data removed]"
          },
          "metadata": {}
        }
      ]
    },
    {
      "cell_type": "code",
      "source": [
        "# Figure 2.1 C\n",
        "\n",
        "dict = {'x' : [0,2],\n",
        "        'y' : [3,1]}\n",
        "coords = pd.DataFrame(dict)\n",
        "\n",
        "print(f'Energy of Configuration: {return_energy(coords)}\\N{greek small letter epsilon}')\n",
        "fig = plot_grid(coords)\n",
        "plt.show()"
      ],
      "metadata": {
        "id": "TEHo4vwDs2Vt",
        "outputId": "61feb28b-0003-42b4-baac-a852f1ed152c",
        "colab": {
          "base_uri": "https://localhost:8080/",
          "height": 442
        }
      },
      "execution_count": 50,
      "outputs": [
        {
          "output_type": "stream",
          "name": "stdout",
          "text": [
            "Energy of Configuration: 0ε\n"
          ]
        },
        {
          "output_type": "display_data",
          "data": {
            "text/plain": [
              "<Figure size 640x480 with 1 Axes>"
            ],
            "image/png": "[encoded data removed]"
          },
          "metadata": {}
        }
      ]
    },
    {
      "cell_type": "code",
      "source": [
        "# Figure 2.1 D/E\n",
        "\n",
        "dict = {'x' : [3,3],\n",
        "        'y' : [2,1]}\n",
        "coords = pd.DataFrame(dict)\n",
        "\n",
        "print(f'Energy of Configuration: {return_energy(coords)}\\N{greek small letter epsilon}')\n",
        "fig = plot_grid(coords)\n",
        "plt.show()"
      ],
      "metadata": {
        "id": "qvdSfWhStEPn",
        "outputId": "b2725570-6baf-43ef-a364-7417b0e101eb",
        "colab": {
          "base_uri": "https://localhost:8080/",
          "height": 442
        }
      },
      "execution_count": 51,
      "outputs": [
        {
          "output_type": "stream",
          "name": "stdout",
          "text": [
            "Energy of Configuration: -1ε\n"
          ]
        },
        {
          "output_type": "display_data",
          "data": {
            "text/plain": [
              "<Figure size 640x480 with 1 Axes>"
            ],
            "image/png": "[encoded data removed]"
          },
          "metadata": {}
        }
      ]
    },
    {
      "cell_type": "code",
      "source": [
        "# Demonstrate the code functioning in more complex scenario\n",
        "\n",
        "n = 10 # max number of points, fewer may be generated because duplicate points must be dropped\n",
        "max_val = 5 # max number of rows/columns in grid\n",
        "\n",
        "x = np.random.randint(0,5,size = n)\n",
        "y = np.random.randint(0,5,size = n)\n",
        "\n",
        "dict = {'x' : x,\n",
        "        'y' : y}\n",
        "coords = pd.DataFrame(dict)\n",
        "coords = coords.drop_duplicates().reset_index(drop=True)\n",
        "\n",
        "print(f'Energy of Configuration: {return_energy(coords)}\\N{greek small letter epsilon}')\n",
        "fig = plot_grid(coords)\n",
        "plt.show()"
      ],
      "metadata": {
        "id": "K0z6kGUoZDep",
        "outputId": "6f95f825-1706-401b-cc2c-28d44924afe6",
        "colab": {
          "base_uri": "https://localhost:8080/",
          "height": 442
        }
      },
      "execution_count": 53,
      "outputs": [
        {
          "output_type": "stream",
          "name": "stdout",
          "text": [
            "Energy of Configuration: -4ε\n"
          ]
        },
        {
          "output_type": "display_data",
          "data": {
            "text/plain": [
              "<Figure size 640x480 with 1 Axes>"
            ],
            "image/png": "[encoded data removed]"
          },
          "metadata": {}
        }
      ]
    },
    {
      "cell_type": "markdown",
      "source": [
        "2.8) Show that the combinations formula for $_{n}C_{k}$ can be expressed as\n",
        "\n",
        "\n",
        "$$\\ln(_{n}C_{k}) = -n\\bigg[x\\ln(x) + (1-x)\\ln(1-x)\\bigg]$$\n",
        "\n",
        "where $x \\equiv \\frac{k}{n}$. You will need to employ Stirling's approximation.\n",
        "\n",
        "Stirling's approximation: $n! ≈ (\\frac{n}{e})^{n}$\n",
        "\n",
        "$$_{n}C_{k} = \\frac{n!}{k!(n-k)!}$$<br>\n",
        "\n",
        "$$_{n}C_{k} = \\frac{(\\frac{n}{e})^{n}}{(\\frac{k}{e})^{k}(\\frac{n-k}{e})^{n-k}}$$<br>\n",
        "\n",
        "$$_{n}C_{k} = n^{n}k^{-k}(n-k)^{k-n}e^{-n}e^{k}e^{n-k}$$<br>\n",
        "\n",
        "$$_{n}C_{k} = n^{n}k^{-k}(n-k)^{k-n}$$<br>\n",
        "\n",
        "$$\\ln(_{n}C_{k}) = \\ln(n^{n}k^{-k}(n-k)^{k-n})$$<br>\n",
        "\n",
        "$$\\ln(_{n}C_{k}) = \\ln(n^{n}) + \\ln(k^{-k}) + \\ln((n-k)^{k-n})$$<br>\n",
        "\n",
        "$$\\ln(_{n}C_{k}) = n\\ln(n) - k\\ln(k) + (k-n)\\ln(n-k)$$<br>\n",
        "\n",
        "$$\\ln(_{n}C_{k}) = n\\ln(n) - k\\ln(k) - (n-k)\\ln(n-k)$$<br>\n",
        "\n",
        "<center>If $x = \\frac{k}{n}$, then $k = nx$. This also means that $n-k = n-nx = n(1-x)$.</center><br>\n",
        "\n",
        "$$\\ln(_{n}C_{k}) = n\\ln(n) - nx\\ln(nx) - n(1-x)\\ln(n(1-x))$$<br>\n",
        "\n",
        "$$\\ln(_{n}C_{k}) = -n\\bigg[x\\ln(nx) + (1-x)\\ln(n(1-x)) - \\ln(n)\\bigg]$$<br>\n",
        "\n",
        "$$\\ln(_{n}C_{k}) = -n\\bigg[x\\ln(x) + (1-x)\\ln(1-x) + x\\ln(n) + (1-x)\\ln(n) - \\ln(n)\\bigg]$$<br>\n",
        "\n",
        "$$\\ln(_{n}C_{k}) = -n\\bigg[x\\ln(x) + (1-x)\\ln(1-x) + \\ln(n)(x + (1-x) - 1)\\bigg]$$<br>\n",
        "\n",
        "$$\\ln(_{n}C_{k}) = -n\\bigg[x\\ln(x) + (1-x)\\ln(1-x)\\bigg]$$<br>\n",
        "\n",
        "\n",
        "\n",
        "\n",
        "\n",
        "\n"
      ],
      "metadata": {
        "id": "TYlignZWKaVz"
      }
    },
    {
      "cell_type": "code",
      "source": [
        "# Demonstrate Stirling's approximation\n",
        "\n",
        "from scipy.special import factorial\n",
        "\n",
        "def stirling_approx(n):\n",
        "  n_fact = (n/np.e)**n\n",
        "  return n_fact\n",
        "\n",
        "true_value = []\n",
        "approx = []\n",
        "\n",
        "for i in range(100):\n",
        "  true_value.append(factorial(i))\n",
        "  approx.append(stirling_approx(i))\n",
        "\n",
        "true_value = np.log10(true_value)\n",
        "approx = np.log10(approx)\n",
        "xvals = np.arange(0,100,1)\n",
        "\n",
        "plt.scatter(xvals,true_value,label='True Factorial',marker='.')\n",
        "plt.scatter(xvals,approx,label=\"Stirling's Approximation\",marker='.')\n",
        "plt.xlabel('Integer Value')\n",
        "plt.ylabel('$\\log_{10}$(Factorial)')\n",
        "plt.legend()"
      ],
      "metadata": {
        "id": "kGt3oCPXTXOK",
        "outputId": "2829f1b7-4e74-49fd-ae5e-082117682980",
        "colab": {
          "base_uri": "https://localhost:8080/",
          "height": 466
        }
      },
      "execution_count": 54,
      "outputs": [
        {
          "output_type": "execute_result",
          "data": {
            "text/plain": [
              "<matplotlib.legend.Legend at 0x7ad3714b7550>"
            ]
          },
          "metadata": {},
          "execution_count": 54
        },
        {
          "output_type": "display_data",
          "data": {
            "text/plain": [
              "<Figure size 640x480 with 1 Axes>"
            ],
            "image/png": "[encoded data removed]"
          },
          "metadata": {}
        }
      ]
    },
    {
      "cell_type": "code",
      "source": [],
      "metadata": {
        "id": "h3_dpE_1jcj_"
      },
      "execution_count": null,
      "outputs": []
    }
  ]
}